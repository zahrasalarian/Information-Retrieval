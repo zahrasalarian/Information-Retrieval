{
 "cells": [
  {
   "cell_type": "code",
   "execution_count": 2,
   "metadata": {},
   "outputs": [],
   "source": [
    "import sys,os,sys\n",
    "from numpy.core.numeric import NaN\n",
    "import regex, copy\n",
    "from regex.regex import escape\n",
    "import pandas as pd"
   ]
  },
  {
   "cell_type": "markdown",
   "metadata": {},
   "source": [
    "## Tokenization"
   ]
  },
  {
   "cell_type": "code",
   "execution_count": 5,
   "metadata": {},
   "outputs": [],
   "source": [
    "def tokenize(documents):\n",
    "    documents = documents.lower()\n",
    "    tokens = documents.split()\n",
    "    return tokens"
   ]
  },
  {
   "cell_type": "code",
   "execution_count": 6,
   "metadata": {},
   "outputs": [],
   "source": [
    "documents = pd.read_csv('IR_Spring2021_ph12_7k.csv').iloc[:,1].values.tolist()\n",
    "links = pd.read_csv('IR_Spring2021_ph12_7k.csv').iloc[:,2].values.tolist()"
   ]
  },
  {
   "cell_type": "code",
   "execution_count": 7,
   "metadata": {},
   "outputs": [],
   "source": [
    "news_words = {}\n",
    "for i in range(len(documents)):\n",
    "    # eliminate null ones\n",
    "    if documents[i] is not NaN:\n",
    "        news_words[i] = tokenize(documents[i])"
   ]
  },
  {
   "cell_type": "code",
   "execution_count": 8,
   "metadata": {},
   "outputs": [
    {
     "data": {
      "text/plain": [
       "2173642"
      ]
     },
     "execution_count": 8,
     "metadata": {},
     "output_type": "execute_result"
    }
   ],
   "source": [
    "count = 0\n",
    "for k, v in news_words.items():\n",
    "    count += len(v)\n",
    "count"
   ]
  },
  {
   "cell_type": "markdown",
   "metadata": {},
   "source": [
    "# همسان سازی\n"
   ]
  },
  {
   "cell_type": "markdown",
   "metadata": {},
   "source": [
    "## یکسان سازی حروف"
   ]
  },
  {
   "cell_type": "code",
   "execution_count": 9,
   "metadata": {},
   "outputs": [],
   "source": [
    "def equalize_chars(word):\n",
    "    # remove vowels and equalize chars\n",
    "    arabic_to_persian={'ؤ':'و', 'ي':'ی', 'أ':'ا', 'إ':'ا', 'آ':'ا', 'ك':'ک', 'ة':'ه'}\n",
    "    new_word = word.translate(str.maketrans(arabic_to_persian))\n",
    "    if new_word != word:\n",
    "        return new_word\n",
    "    else:\n",
    "        return word"
   ]
  },
  {
   "cell_type": "markdown",
   "metadata": {},
   "source": [
    "## حذف پیشوند ها"
   ]
  },
  {
   "cell_type": "code",
   "execution_count": 10,
   "metadata": {},
   "outputs": [],
   "source": [
    "pisvand = [\"بیش\\u200c\", \"پس\\u200c\", \"باز\\u200c\", \"بر\", \"پسا\", \"پی\\u200c\", \"فرا\", \"فرو\\u200c\", \"نا\\u200c\", \"بی\\u200c\", \"اندر\"]\n",
    "pasvands = ['ات', \"تر\", \"ترین\", \"شان\", \"ها\", \"تان\", 'های']\n",
    "\n",
    "def delete_pishvand(word):\n",
    "    for p in pisvand:\n",
    "        if word.startswith(p):\n",
    "            trmv = '^{}'.format(p)\n",
    "            new_t = regex.sub(trmv, '', word)\n",
    "            if len(new_t) > 2 and new_t not in pasvands and new_t != word:\n",
    "                word = new_t\n",
    "    return word"
   ]
  },
  {
   "cell_type": "markdown",
   "metadata": {},
   "source": [
    "## ریشه یابی افعال"
   ]
  },
  {
   "cell_type": "code",
   "execution_count": 11,
   "metadata": {},
   "outputs": [],
   "source": [
    "verbs=pd.read_csv(\"verbs.csv\")\n",
    "past_dict = {}\n",
    "present_dict = {}\n",
    "to_add = [['می','م'],['می','ی'],['می','د'], ['می','یم'],['می','ید'], ['می','ند']]\n",
    "for present, past in verbs.values:\n",
    "    for tad in to_add:\n",
    "        new_present = tad[0] + present + tad[1]\n",
    "        new_past = tad[0] + past + tad[1]\n",
    "        past_dict[new_past] = past\n",
    "        present_dict[new_present] = present\n",
    "\n",
    "def root_of_verbs(word):\n",
    "    if word in past_dict:\n",
    "        return past_dict[word]\n",
    "    elif word in present_dict:\n",
    "        return present_dict[word]\n",
    "    return word\n"
   ]
  },
  {
   "cell_type": "markdown",
   "metadata": {},
   "source": [
    "## حذف استاپ ورد ها"
   ]
  },
  {
   "cell_type": "code",
   "execution_count": 12,
   "metadata": {},
   "outputs": [],
   "source": [
    "nv_stop_words = pd.read_csv('stop_words.txt', delimiter = \"\\t\")\n",
    "def del_stop_w(word):\n",
    "    for w in nv_stop_words[\"stop_word\"]:\n",
    "        if w == word:\n",
    "            return ''\n",
    "    return word\n"
   ]
  },
  {
   "cell_type": "code",
   "execution_count": 13,
   "metadata": {},
   "outputs": [],
   "source": [
    "punctuations = pd.read_csv(\"punctuations.csv\")\n",
    "ch_stop_words =''.join(punctuations[\"punctuations\"].values.tolist()).replace(\" \",\"\")\n",
    "def del_punctuations(word):\n",
    "    new_t = word.translate(str.maketrans('','',ch_stop_words))\n",
    "    if new_t != word:\n",
    "        return new_t\n",
    "    else:\n",
    "        return word\n"
   ]
  },
  {
   "cell_type": "markdown",
   "metadata": {},
   "source": [
    "## ریشه یابی مکسر"
   ]
  },
  {
   "cell_type": "code",
   "execution_count": 14,
   "metadata": {},
   "outputs": [],
   "source": [
    "mokasar_plural = pd.read_csv(\"mokasar.csv\")\n",
    "mokassar = {}\n",
    "for singular, plural in mokasar_plural.values:\n",
    "    mokassar[plural] = singular\n",
    "def mokasar(word):\n",
    "    if word in mokassar:\n",
    "        return mokassar[word]\n",
    "    return word"
   ]
  },
  {
   "cell_type": "markdown",
   "metadata": {},
   "source": [
    "## حذف پسوند"
   ]
  },
  {
   "cell_type": "code",
   "execution_count": 15,
   "metadata": {},
   "outputs": [],
   "source": [
    "def del_pasvand(word):\n",
    "    for p in pasvands:\n",
    "        if word.endswith(p):\n",
    "            trmv = '\\{}$'.format(p)\n",
    "            new_t = regex.sub(trmv, '', word)\n",
    "            if len(new_t) > 2 and new_t not in pasvands and new_t != word:\n",
    "                word = new_t\n",
    "    return word"
   ]
  },
  {
   "cell_type": "markdown",
   "metadata": {},
   "source": [
    "## Normalization"
   ]
  },
  {
   "cell_type": "code",
   "execution_count": 16,
   "metadata": {},
   "outputs": [],
   "source": [
    "def normalize(word):\n",
    "    w = ''\n",
    "    w = equalize_chars(word)\n",
    "    w = delete_pishvand(w)\n",
    "    w = root_of_verbs(w)\n",
    "    w = del_stop_w(w)\n",
    "    w = del_punctuations(w)\n",
    "    w = mokasar(w)\n",
    "    w = del_pasvand(w)\n",
    "    return w"
   ]
  },
  {
   "cell_type": "code",
   "execution_count": 17,
   "metadata": {
    "tags": []
   },
   "outputs": [
    {
     "name": "stdout",
     "output_type": "stream",
     "text": [
      "CPU times: user 4.55 s, sys: 142 ms, total: 4.69 s\n",
      "Wall time: 4.66 s\n"
     ]
    }
   ],
   "source": [
    "%%time\n",
    "# normalization\n",
    "abn_to_n = {}\n",
    "new_news_words = {}\n",
    "for k, news in news_words.items():\n",
    "    new_news = []\n",
    "    for word in set(news):\n",
    "        if word not in abn_to_n:\n",
    "            norm_w = normalize(word)\n",
    "            if norm_w != '':\n",
    "                new_news.append(norm_w)\n",
    "                abn_to_n[word] = norm_w\n",
    "        else:\n",
    "            new_news.append(abn_to_n[word])\n",
    "    new_news_words[k] = new_news\n",
    "    "
   ]
  },
  {
   "cell_type": "markdown",
   "metadata": {},
   "source": [
    "## Build Inverted Index"
   ]
  },
  {
   "cell_type": "code",
   "execution_count": 18,
   "metadata": {},
   "outputs": [],
   "source": [
    "def build_inverted_index(news_words):\n",
    "    inverted_index = {}\n",
    "    for k, v in news_words.items():\n",
    "        for word in v:\n",
    "            if not 'http' in word:\n",
    "                if word not in inverted_index:\n",
    "                    inverted_index[word] = [k]\n",
    "                elif k not in inverted_index[word]:\n",
    "                    inverted_index[word].append(k)\n",
    "\n",
    "    return inverted_index"
   ]
  },
  {
   "cell_type": "code",
   "execution_count": 20,
   "metadata": {},
   "outputs": [
    {
     "name": "stdout",
     "output_type": "stream",
     "text": [
      "CPU times: user 2.93 s, sys: 26.3 ms, total: 2.95 s\n",
      "Wall time: 2.95 s\n"
     ]
    }
   ],
   "source": [
    "%%time\n",
    "inverted_index = build_inverted_index(new_news_words)"
   ]
  },
  {
   "cell_type": "code",
   "execution_count": 21,
   "metadata": {},
   "outputs": [
    {
     "data": {
      "text/plain": [
       "34939"
      ]
     },
     "execution_count": 21,
     "metadata": {},
     "output_type": "execute_result"
    }
   ],
   "source": [
    "len(inverted_index.keys())"
   ]
  },
  {
   "cell_type": "code",
   "execution_count": 22,
   "metadata": {
    "tags": []
   },
   "outputs": [],
   "source": [
    "# single word query\n",
    "def single_query(query):\n",
    "    n_q = normalize(query)\n",
    "    answers = inverted_index[n_q]\n",
    "    for ea in answers:\n",
    "        print(links[ea])"
   ]
  },
  {
   "cell_type": "code",
   "execution_count": 24,
   "metadata": {},
   "outputs": [],
   "source": [
    "data = pd.read_csv(\"IR_Spring2021_ph12_7k.csv\")"
   ]
  },
  {
   "cell_type": "code",
   "execution_count": 25,
   "metadata": {
    "tags": []
   },
   "outputs": [],
   "source": [
    "# mulit word query\n",
    "def mulit_query(query):\n",
    "    near_answers_dict = {}\n",
    "    query_words = query\n",
    "    for qw in query_words:\n",
    "        qw = normalize(qw)\n",
    "        if qw in inverted_index.keys():\n",
    "            answers = inverted_index[qw]\n",
    "            for answer in answers:\n",
    "                if answer in near_answers_dict:\n",
    "                    near_answers_dict[answer] += 1\n",
    "                else:\n",
    "                    near_answers_dict[answer] = 1\n",
    "    sort_orders = sorted(near_answers_dict.items(), key=lambda x: x[1], reverse=True)\n",
    "    for ea in sort_orders:\n",
    "        print(links[ea[0]])"
   ]
  },
  {
   "cell_type": "code",
   "execution_count": 30,
   "metadata": {},
   "outputs": [],
   "source": [
    "def handle_query(query):\n",
    "    query = query.split()\n",
    "    if len(query) == 1:\n",
    "        single_query(query[0])\n",
    "    else:\n",
    "        mulit_query(query)"
   ]
  },
  {
   "cell_type": "markdown",
   "metadata": {},
   "source": [
    "## Examples:"
   ]
  },
  {
   "cell_type": "code",
   "execution_count": 31,
   "metadata": {
    "tags": []
   },
   "outputs": [
    {
     "name": "stdout",
     "output_type": "stream",
     "text": [
      "https://www.isna.ir/news/99032717653/آنچه-که-باید-درباره-سرطان-غدد-لنفاوی-بدانیم\n",
      "https://www.isna.ir/news/99032717653/آنچه-که-باید-درباره-سرطان-غدد-لنفاوی-بدانیم\n",
      "https://www.isna.ir/news/99072317682/علائم-تنفسی-مشکوک-سل-یا-کرونا\n",
      "https://www.isna.ir/news/98060603030/بهره-برداری-از-۶-دستگاه-تصویربرداری-پزشکی-هسته-ای-محققان-در-مراکز\n",
      "https://www.isna.ir/news/98060603030/بهره-برداری-از-۶-دستگاه-تصویربرداری-پزشکی-هسته-ای-محققان-در-مراکز\n",
      "https://www.isna.ir/news/98060603030/بهره-برداری-از-۶-دستگاه-تصویربرداری-پزشکی-هسته-ای-محققان-در-مراکز\n"
     ]
    }
   ],
   "source": [
    "# get query\n",
    "query = 'لنفاوی'\n",
    "handle_query(query)"
   ]
  },
  {
   "cell_type": "code",
   "execution_count": 32,
   "metadata": {},
   "outputs": [
    {
     "name": "stdout",
     "output_type": "stream",
     "text": [
      "https://www.isna.ir/news/99112720304/مجتبی-حسینی-از-نفت-مسجدسلیمان-جدا-شد\n",
      "https://www.isna.ir/news/98121310879/سخنگوی-سپاه-سردار-قاآنی-هیچ-صفحه-ای-در-فضای-مجازی-ندارد\n",
      "https://www.isna.ir/news/99011206227/واکنش-معاون-وزیر-ارتباطات-به-نشت-اطلاعات-کاربران-تلگرام\n",
      "https://www.isna.ir/news/99020603950/۵-خدمت-نوآورانه-آنلاین-کرونایی-از-سوی-استارتاپ-های-کارخانه-نوآوری\n",
      "https://www.isna.ir/news/99022216048/ضرغامی-مجازی-شده-است\n",
      "https://www.isna.ir/news/99042115530/جریمه-دو-میلیارد-تومانی-در-انتظار-اپراتورهاست\n",
      "https://www.isna.ir/news/99050503299/برقراری-تماس-با-نصف-تعرفه-اپراتورها\n",
      "https://www.isna.ir/news/99052316987/کاهش-تعداد-پیامک-های-ورودی-به-اپراتورهای-همراه\n",
      "https://www.isna.ir/news/99072216679/معرفی-صداوسیما-به-عنوان-ناظر-VODها-بدترین-انتخاب-است\n",
      "https://www.isna.ir/news/99090403293/بررسی-طرح-تحول-بازار-و-صنعت-خودروی-سبک-در-کمیسیون-صنایع\n",
      "https://www.isna.ir/news/98010802211/ارسال-هر-پیامک-چقدر-هزینه-دارد\n",
      "https://www.isna.ir/news/98022412950/شرط-بانک-مرکزی-برای-ادامه-استفاده-از-رمز-دوم-های-قبلی\n",
      "https://www.isna.ir/news/98072418314/هشدار-واتس-اپ-خود-را-به-روز-کنید\n",
      "https://www.isna.ir/news/98090100237/افزایش-فعالیت-ایسنا-در-پیام-رسان-های-خبری\n",
      "https://www.isna.ir/news/99020603950/۵-خدمت-نوآورانه-آنلاین-کرونایی-از-سوی-استارتاپ-های-کارخانه-نوآوری\n",
      "https://www.isna.ir/news/99021309104/دعوت-از-اهالی-موسیقی-به-احترام-سپیدجامه-گان\n",
      "https://www.isna.ir/news/99080804798/هرگونه-تجمع-و-مراسم-در-روز-۱۳-آبان-ممنوع-است\n",
      "https://www.isna.ir/news/99080804798/هرگونه-تجمع-و-مراسم-در-روز-۱۳-آبان-ممنوع-است\n"
     ]
    }
   ],
   "source": [
    "# get query\n",
    "query = 'پیام‌رسان'\n",
    "handle_query(query)"
   ]
  },
  {
   "cell_type": "code",
   "execution_count": 33,
   "metadata": {},
   "outputs": [
    {
     "name": "stdout",
     "output_type": "stream",
     "text": [
      "https://www.isna.ir/news/98060603030/بهره-برداری-از-۶-دستگاه-تصویربرداری-پزشکی-هسته-ای-محققان-در-مراکز\n",
      "https://www.isna.ir/news/98060603030/بهره-برداری-از-۶-دستگاه-تصویربرداری-پزشکی-هسته-ای-محققان-در-مراکز\n",
      "https://www.isna.ir/news/98060603030/بهره-برداری-از-۶-دستگاه-تصویربرداری-پزشکی-هسته-ای-محققان-در-مراکز\n",
      "https://www.isna.ir/news/99081106939/برنامه-غذایی-مناسب-از-قبل-تا-بعد-از-مسابقه\n",
      "https://www.isna.ir/news/99022014298/جلوگیری-از-خروج-۸۰-میلیون-دلار-ارز-با-تولید-کودهای-فسفاته\n",
      "https://www.isna.ir/news/99060201931/درخواست-سازمان-نظام-دامپزشکی-از-شهرداری-برخورد-غیر-تخصصی-با\n",
      "https://www.isna.ir/news/99110503314/جزئیات-افزایش-قیمت-کالاهای-وارداتی-و-صادراتی\n",
      "https://www.isna.ir/news/98043015870/پیش-بینی-کاهش-شدید-مواد-مغذی-در-جنوب-آسیا-خاورمیانه-و-آفریقا\n",
      "https://www.isna.ir/news/99021007666/مواد-غذایی-که-برای-پیشگیری-از-ابتلا-به-کرونا-لازم-هستند\n",
      "https://www.isna.ir/news/99021007481/در-ایام-روزه-داری-چگونه-از-کرونا-در-امان-بمانیم\n",
      "https://www.isna.ir/news/99021108111/توصیه-های-تغذیه-ای-برای-سالم-نگه-داشتن-عضلات-تنفسی\n",
      "https://www.isna.ir/news/99031408797/۱۳-نکته-تغذیه-ای-برای-بهبودیافتگان-کووید۱۹\n",
      "https://www.isna.ir/news/99031408797/۱۳-نکته-تغذیه-ای-برای-بهبودیافتگان-کووید۱۹\n",
      "https://www.isna.ir/news/99042518891/حفظ-بهداشت-آشپزخانه-در-شرایط-کرونایی\n",
      "https://www.isna.ir/news/99051511630/توصیه-های-تغذیه-ای-در-بیماری-های-تب-دار-به-ویژه-کرونا\n",
      "https://www.isna.ir/news/99052014427/حداقل-زمان-برای-تولید-واکسن-کرونا-چند-سال-است\n",
      "https://www.isna.ir/news/99072820379/نقش-تغذیه-در-پسرزایی-و-دخترزایی-آری-یا-خیر\n",
      "https://www.isna.ir/news/99073021868/کرونا-ماهانه-۲-بار-تغییر-ژنتیک-می-دهد-اورژانس-کرونایی-تعریف\n",
      "https://www.isna.ir/news/99090906421/واکسن-های-mRNA-چگونه-کار-می-کنند-کدام-واکسن-کووید-۱۹-بهتر-است\n",
      "https://www.isna.ir/news/99091914935/بررسی-آخرین-نتایج-تولید-داخلی-واکسن-کرونا-در-کمیسیون-بهداشت\n",
      "https://www.isna.ir/news/99091914716/تور-کاسبان-کرونا-با-وعده-واکسن-هشدار-وزارت-بهداشت\n",
      "https://www.isna.ir/news/99092317194/سرعت-جهش-کرونا-۴-برابر-کمتر-از-آنفلوانزا-جهش-ویروس-از-عواقب\n",
      "https://www.isna.ir/news/98031606674/برای-سلامت-قلب-مان-چه-کنیم\n",
      "https://www.isna.ir/news/98031606674/برای-سلامت-قلب-مان-چه-کنیم\n",
      "https://www.isna.ir/news/98031606674/برای-سلامت-قلب-مان-چه-کنیم\n",
      "https://www.isna.ir/news/98051306482/قهوه-سبز-لاغر-می-کند\n",
      "https://www.isna.ir/news/98051306482/قهوه-سبز-لاغر-می-کند\n",
      "https://www.isna.ir/news/98051909293/خیز-تولیدکنندگان-نانو-داروی-ضدسرطان-ایرانی-به-کشورهای-اروپایی\n",
      "https://www.isna.ir/news/98051909293/خیز-تولیدکنندگان-نانو-داروی-ضدسرطان-ایرانی-به-کشورهای-اروپایی\n",
      "https://www.isna.ir/news/98051909293/خیز-تولیدکنندگان-نانو-داروی-ضدسرطان-ایرانی-به-کشورهای-اروپایی\n",
      "https://www.isna.ir/news/98052713121/چه-بخوریم-که-قلب-مان-سالم-بماند\n",
      "https://www.isna.ir/news/98052713121/چه-بخوریم-که-قلب-مان-سالم-بماند\n",
      "https://www.isna.ir/news/98060301458/شرح-زندگی-زکریای-رازی-از-کیمیاگری-تا-پزشکی\n",
      "https://www.isna.ir/news/98060502814/درباره-کاشف-مرگ-موش\n",
      "https://www.isna.ir/news/98060502814/درباره-کاشف-مرگ-موش\n",
      "https://www.isna.ir/news/98060502814/درباره-کاشف-مرگ-موش\n",
      "https://www.isna.ir/news/98061005283/خطر-افزایش-شیوع-آسم-در-کشور-طی-سال-های-آینده\n"
     ]
    }
   ],
   "source": [
    "# get query\n",
    "query = 'اسپکت حیوانی'\n",
    "handle_query(query)"
   ]
  },
  {
   "cell_type": "code",
   "execution_count": 34,
   "metadata": {},
   "outputs": [
    {
     "name": "stdout",
     "output_type": "stream",
     "text": [
      "https://www.isna.ir/news/99051913870/درخواست-وزارت-ارتباطات-برای-رفع-فیلتر-توییتر\n",
      "https://www.isna.ir/news/99110301727/جزییات-شکایات-از-وزیر-ارتباطات\n",
      "https://www.isna.ir/news/98060100116/محدودیت-و-فیلتر-آسیب-زا-است\n",
      "https://www.isna.ir/news/99061309900/دژاگه-در-توییتر-فعالیتی-ندارم-قهرمانی-تراکتور-در-زمین-رقم-خورد\n",
      "https://www.isna.ir/news/98071713631/حضور-خبرنگاران-زن-صداوسیما-در-بازی-فردای-تیم-ملی\n",
      "https://www.isna.ir/news/98110100873/مالیات-خروج-از-کشور-همان-عوارض-خروجی-است\n",
      "https://www.isna.ir/news/99011206227/واکنش-معاون-وزیر-ارتباطات-به-نشت-اطلاعات-کاربران-تلگرام\n",
      "https://www.isna.ir/news/99011306681/افزایش-۲-۵-برابری-مصرف-اینترنت-نصب-۸۰۰-هزار-پورت-VDSL-در-تهران\n",
      "https://www.isna.ir/news/99022417600/اینترنت-شاد-تا-پایان-خرداد-رایگان-شد\n",
      "https://www.isna.ir/news/99022719322/خبرهای-جدید-از-شبکه-ملی-اطلاعات-در-راه-است\n",
      "https://www.isna.ir/news/99030502206/امنیتی-سازی-در-رخدادهایی-مثل-فیشینگ-ناکارآمد-است\n",
      "https://www.isna.ir/news/99031408769/نفس-های-آخر-وس-های-کلاهبردار\n",
      "https://www.isna.ir/news/99033018916/اختلال-در-شبکه-همراه-اول-به-دلیل-افت-ولتاژ-مشکل-برطرف-شد\n",
      "https://www.isna.ir/news/99050503139/حمله-به-توییتر-و-پرواز-بیت-کوین\n",
      "https://www.isna.ir/news/99050806024/اختلالی-در-شبکه-اینترنتی-وجود-نداشته-است\n",
      "https://www.isna.ir/news/00061215279/حمله-سایبری-به-سپر-دژفا-نشده-است\n",
      "https://www.isna.ir/news/98071108483/رشد-سهم-محتوای-فارسی-در-اینترنت-تا-هدف-چقدر-فاصله-داریم\n",
      "https://www.isna.ir/news/98090100237/افزایش-فعالیت-ایسنا-در-پیام-رسان-های-خبری\n",
      "https://www.isna.ir/news/98121713194/ارایه-۱۰۰-گیگ-اینترنت-ثابت-رایگان-تا-پایان-سال\n",
      "https://www.isna.ir/news/98122620307/۱۴۰۰-گیگابیت-به-ظرفیت-زیرساخت-اضافه-می-شود\n",
      "https://www.isna.ir/news/99022216048/ضرغامی-مجازی-شده-است\n",
      "https://www.isna.ir/news/99072216679/معرفی-صداوسیما-به-عنوان-ناظر-VODها-بدترین-انتخاب-است\n",
      "https://www.isna.ir/news/99021712712/نشست-منتخبان-ائتلاف-نیروهای-انقلاب-در-مجلس-یازدهم-برگزار-شد\n",
      "https://www.isna.ir/news/99051410865/ابراز-همدردی-بعیدی-نژاد-با-مردم-و-دولت-لبنان\n",
      "https://www.isna.ir/news/99070100879/از-اول-قصد-استفاده-از-دنا-پلاس-نداشتم\n",
      "https://www.isna.ir/news/98042714273/انسان-های-مجازی-تمدن-ساز-نیستند\n",
      "https://www.isna.ir/news/98050804281/حکایت-یک-عکس-غلط-انداز\n",
      "https://www.isna.ir/news/98051909701/دیدار-جمعی-از-نمایندگان-با-ظریف-محکومیت-اقدام-آمریکا-در-تحریم\n",
      "https://www.isna.ir/news/98060200596/تکذیب-خبر-بازداشت-فرزند-سرلشگر-صالحی\n",
      "https://www.isna.ir/news/98061708894/تبریک-سخنگوی-وزارت-خارجه-پس-از-صعود-تیم-ملی-بسکتبال-به-المپیک\n",
      "https://www.isna.ir/news/98071511946/طرح-تشکیل-هیات-نظارت-بر-زندان-ها-تقدیم-هیأت-رییسه-شد\n",
      "https://www.isna.ir/news/98071612770/شعبه-ای-ازسامانه-ثبت-دارایی-مقامات-در-مجلس-مستقر-می-شود\n",
      "https://www.isna.ir/news/98080603142/سفیر-انگلیس-حتی-با-خروج-از-اتحادیه-اروپا-به-برجام-پایبندیم\n",
      "https://www.isna.ir/news/98121310619/دعای-هفتم-صحیفه-سجادیه-که-امروز-رهبر-معظم-انقلاب-خواندن-آن-را\n",
      "https://www.isna.ir/news/99013017819/ثبت-نام-سیم-کارت-های-رایگان-باید-آنلاین-شود\n",
      "https://www.isna.ir/news/99022719448/خدمات-ویژه-دولت-الکترونیکی-در-روز-ارتباطات\n",
      "https://www.isna.ir/news/99031106524/سهم-دولت-الکترونیک-در-تعیین-تکلیف-سهام-عدالت\n",
      "https://www.isna.ir/news/99031408755/نوبت-لو-رفتن-اطلاعات-رایتل-شد\n",
      "https://www.isna.ir/news/99042115754/زنگنه-تحریم-ها-ماندنی-نیست\n",
      "https://www.isna.ir/news/99050503299/برقراری-تماس-با-نصف-تعرفه-اپراتورها\n",
      "https://www.isna.ir/news/99053022870/اتصال-دومین-نقطه-به-5G-در-تهران\n",
      "https://www.isna.ir/news/99070503521/۱۲۰-گیگابایت-اینترنت-برای-اساتید-دانشگاه-ها\n",
      "https://www.isna.ir/news/99072921646/ثبت-نام-اینترنت-رایگان-برای-اساتید-دانشگاهی-تمدید-شد\n",
      "https://www.isna.ir/news/99082517358/توییتر-صفحه-وزیر-نفت-را-معلق-کرد\n",
      "https://www.isna.ir/news/99083020943/از-مسافرت-افراد-مبتلا-به-کرونا-جلوگیری-می-شود\n",
      "https://www.isna.ir/news/99090100531/خبر-خوش-نایب-رئیس-اتاق-بازرگانی-برای-بورسی-ها\n",
      "https://www.isna.ir/news/99110705108/ارزیابی-شفافیت-درگاه-های-وزارتخانه-ها-ارائه-می-شود\n",
      "https://www.isna.ir/news/98080603255/تاریخ-دقیق-افتتاح-آزادراه-تهران-شمال-اعلام-شد\n",
      "https://www.isna.ir/news/98120806357/در-صورت-تعطیلی-مدارس-امکان-آموزش-از-راه-دور-فراهم-است\n",
      "https://www.isna.ir/news/98122821779/تمدید-بسته-های-اینترنت-رایگان-تا-۷-فروردین\n",
      "https://www.isna.ir/news/99012413425/دسترسی-به-تست-سریع-کرونا-به-زودی\n",
      "https://www.isna.ir/news/99032314406/توصیه-جهانپور-به-استفاده-از-ماسک-برای-کاهش-شیوع-کرونا\n",
      "https://www.isna.ir/news/99041209422/رئیس-پزشکی-قانونی-دشتستان-بر-اثر-کرونا-جان-باخت\n",
      "https://www.isna.ir/news/99041209422/رئیس-پزشکی-قانونی-دشتستان-بر-اثر-کرونا-جان-باخت\n",
      "https://www.isna.ir/news/99042820934/رمدسیویر-وارد-فهرست-دارویی-کشور-شد\n",
      "https://www.isna.ir/news/99042820324/۳-کشور-در-صدر-بالاترین-میزان-کشندگی-کرونا\n",
      "https://www.isna.ir/news/99072418231/استمرار-ممنوع-سفر-به-شهرهای-قرمز-حداقل-مداخله-حاکمیتی-در-مقابله\n",
      "https://www.isna.ir/news/99082416238/۸-واکسن-ایرانی-کرونا-در-فهرست-سازمان-بهداشت-جهانی\n",
      "https://www.isna.ir/news/99090503996/آغاز-مطالعه-بالینی-واکسن-آنفلوآنزای-ایرانی\n",
      "https://www.isna.ir/news/99091209994/اولین-واکسن-ایرانی-کرونا-کد-اخلاق-گرفت\n",
      "https://www.isna.ir/news/99091310077/آغاز-مطالعه-انسانی-واکسن-ایرانی-کرونا\n",
      "https://www.isna.ir/news/99091209994/اولین-واکسن-ایرانی-کرونا-کد-اخلاق-گرفت\n",
      "https://www.isna.ir/news/99091310077/آغاز-مطالعه-انسانی-واکسن-ایرانی-کرونا\n",
      "https://www.isna.ir/news/99101208721/هیچ-محموله-واکسن-کرونا-به-کشور-ارسال-نشده-است\n",
      "https://www.isna.ir/news/99120201024/عذرخواهی-و-توضیح-کرمانپور-درباره-نامه-اش-برای-واکسیناسیون-هنرمندان\n",
      "https://www.isna.ir/news/99121712749/اختراع-نسل-جدیدی-از-ماسک-های-تنفسی-هوشمند-در-دانشگاه-صنعتی-سهند\n",
      "https://www.isna.ir/news/99011809817/پیام-یونسکو-به-مناسبت-روز-جهانی-ورزش-در-این-دوران-ورزش-ترویج\n",
      "https://www.isna.ir/news/99041007452/کاپیتان-شجاعی-در-تراکتور-می-ماند\n",
      "https://www.isna.ir/news/99043022528/تلاش-برای-دریافت-پاسخ-به-ابهامات-ورزشی\n",
      "https://www.isna.ir/news/99050806247/شوخی-مجری-تلویزیون-کار-دستش-داد\n",
      "https://www.isna.ir/news/99052417558/هفت-باز-هم-به-نفع-فوتبال-کنار-می-رود\n",
      "https://www.isna.ir/news/99060403745/ویژه-برنامه-شب-های-فوتبالی-برای-شهرآورد-تهران\n",
      "https://www.isna.ir/news/99060504848/پوشش-خبری-داربی-کرونایی-چگونه-است\n",
      "https://www.isna.ir/news/99060504671/پوشش-داربی-بدون-تماشاگر-با-۱۲-دوربین\n",
      "https://www.isna.ir/news/99060705737/حمله-به-صدا-و-سیما-درپی-پخش-تصویر-جودوکار-رژیم-صهیونیستی\n",
      "https://www.isna.ir/news/99061007412/فردوسی-پور-با-برنامه-ای-مشابه-90-در-فضای-مجازی\n",
      "https://www.isna.ir/news/99071914211/مسوول-پخش-شبکه-ورزش-تغییر-کرد\n",
      "https://www.isna.ir/news/99072216939/برتری-مس-مقابل-فولاد-و-زغال-سنگ-مقابل-فراز-در-لیگ-برتر-هندبال\n",
      "https://www.isna.ir/news/99090604983/صدای-گزارشگری-فردوسی-پور-پس-از-مدت-ها-در-تلویزیون\n",
      "https://www.isna.ir/news/99093023461/باشگاه-های-ورزشی-با-رعایت-پروتکل-های-بهداشتی-بازگشایی-شود\n",
      "https://www.isna.ir/news/99111410532/اهالی-فوتبال-و-هنر-بر-بالین-انصاریان-پزشک-معالج-او-در-قید-حیات\n",
      "https://www.isna.ir/news/99121209358/میراسماعیلی-۱۸-ماه-سخت-را-پشت-سر-گذاشتم-خیلی-ها-ما-را-از-پیش\n",
      "https://www.isna.ir/news/98010902616/گزارشگر-داربی-۸۹-مشخص-شد\n",
      "https://www.isna.ir/news/98021407510/سقوط-مرگبار-خودروی-آفرود-در-رودخانه\n",
      "https://www.isna.ir/news/98040100642/استراماچونی-فکر-نمی-کردم-به-ایران-بیایم-ولاسکو-کلید-قبول-پیشنهاد\n",
      "https://www.isna.ir/news/98050804135/احتمال-ورود-هیئت-نظارت-بر-صداوسیما-به-ماجرای-پخش-نشدن-فینال-والیبال\n",
      "https://www.isna.ir/news/98051206050/عذرخواهی-مجری-شبکه-سه-از-استقلالی-ها\n",
      "https://www.isna.ir/news/98051306794/توضیحات-رضا-جاودانی-درباره-مصاحبه-اخیرش\n",
      "https://www.isna.ir/news/98052311646/عرب-استعفا-نداده-است-مدیران-پرسپولیس-در-این-باشگاه-می-مانند\n",
      "https://www.isna.ir/news/98060502751/آغاز-فوتبال-۱۲۰-فردوسی-پور-در-تلویزیون\n",
      "https://www.isna.ir/news/00061215423/گزارشگر-دربی-۹۰-کیست\n",
      "https://www.isna.ir/news/98070705439/شیراز-میزبان-رقابت-های-کشتی-فرنگی-جام-تختی-شد\n",
      "https://www.isna.ir/news/98071309920/همسر-خبرنگار-فقید-ورزشی-در-فرمول-یک\n",
      "https://www.isna.ir/news/98120504157/شکایت-سپاهان-از-مدیرعامل-پرسپولیس\n",
      "https://www.isna.ir/news/98121209612/تیم-فوتبال-مس-نوین-کرمان-قرنطینه-شد\n",
      "https://www.isna.ir/news/99012615291/سردار-سپهر-تفکرجهادی-باید-گسترش-پیدا-کند\n",
      "https://www.isna.ir/news/99031005739/توضیحات-امیرآبادی-درباره-هدیه-یکی-از-وزارتخانه-ها-به-منتخبان\n",
      "https://www.isna.ir/news/99031710058/برگزاری-مراسم-تجمعی-ممنوع-با-متخلفان-طبق-ضوابط-قانونی-برخورد\n",
      "https://www.isna.ir/news/99040504248/حقوقدانان-رضوی-بوشهر-مشاوره-رایگان-حقوقی-می-دهند\n",
      "https://www.isna.ir/news/99042619611/قدردانی-یک-نماینده-از-بخشنامه-اخیر-رییس-قوه-قضاییه-در-مورد-بانک-ها\n",
      "https://www.isna.ir/news/99042921735/تاکید-جلالی-بر-مقابله-با-تهدیدات-غیر-نظامی-در-کمیسیون-امنیت-ملی\n",
      "https://www.isna.ir/news/99050100718/چه-بخش-هایی-درباره-کلینیک-سینا-کم-کاری-کردند\n",
      "https://www.isna.ir/news/99050402666/بررسی-تعرض-به-هواپیمای-ماهان-در-۲-برنامه-تلویزیونی\n",
      "https://www.isna.ir/news/99051208976/وزیر-دفاع-نیروهای-مسلح-آماده-تر-از-هر-زمان-دیگری-از-کشور-دفاع\n",
      "https://www.isna.ir/news/99052014844/سخنگوی-سازمان-تعزیرات-حکومتی-به-تهران-۲۰-می-رود\n",
      "https://www.isna.ir/news/99052922269/ابلاغ-۷۲۹-میلیاردی-برای-تسریع-در-تکمیل-پروژه-های-عمرانی-استان\n",
      "https://www.isna.ir/news/99060100750/آغاز-عملیات-اجرایی-۹۰۵-پروژه-عمرانی-و-اقتصادی-در-استان-بوشهر\n",
      "https://www.isna.ir/news/99060705797/شکست-های-مکرر-آمریکا-در-سازمان-ملل-نشان-از-افول-قدرت-است\n",
      "https://www.isna.ir/news/99061209309/تحلیل-محورهای-نامه-رهبر-معظم-انقلاب-به-جوانان-غرب\n",
      "https://www.isna.ir/news/99061309617/دولت-توجه-بیشتری-به-اشتغال-کردستان-داشته-باشد\n",
      "https://www.isna.ir/news/99061914826/نامه-نمکی-به-رییس-دستگاه-قضا-در-پی-ادعاهایی-درباره-پیمانکاری\n",
      "https://www.isna.ir/news/99062115887/سهمیه-مصوبه-حداقل-۵۰-درصد-اشتغال-بومی-رعایت-نمی-شود\n",
      "https://www.isna.ir/news/99062317707/اندروید-ایرانی-بر-روی-برخی-گوشی-ها-فعال-شده-است\n",
      "https://www.isna.ir/news/99071309859/درخواست-فرجام-خواهی-اکبر-طبری-از-دیوان-عالی-کشور\n",
      "https://www.isna.ir/news/99071410703/مبارزات-انتخاباتی-ترامپ-و-بایدن-به-روایت-خبرنگار-امریکایی-پرس\n",
      "https://www.isna.ir/news/99071511616/گسترش-همکاری-های-رسانه-ای-ایران-و-روسیه-بندهای-تفاهم-نامه\n",
      "https://www.isna.ir/news/99071813265/عذر-خواهی-مدیرکل-صدا-و-سیمای-مرکز-کردستان-از-علمای-اهل-سنت\n",
      "https://www.isna.ir/news/99080502812/کلیات-طرح-ساماندهی-شبکه-ملی-اطلاعات-در-کمیسیون-فرهنگی-مجلس-تصویب\n",
      "https://www.isna.ir/news/99080905513/توهین-نشریه-فرانسوی-برگ-دیگری-از-کتاب-قطور-بی-فرهنگی-و-جنایات\n",
      "https://www.isna.ir/news/99081006357/یک-برنامه-جدید-در-پرس-تی-وی-با-ریچارد-مدهرست\n",
      "https://www.isna.ir/news/99081610207/سیاست-جمهوری-اسلامی-ایران-هیچگاه-با-تغییر-رؤسای-جمهور-در-آمریکا\n",
      "https://www.isna.ir/news/99081811840/آینده-روابط-سیاسی-ایران-و-آمریکا-پس-از-بایدن\n",
      "https://www.isna.ir/news/99091511433/مصوبه-تعیین-حق-امتیاز-صدور-پروانه-فعالیت-کارور-ماهواره-ای-مخابراتی\n",
      "https://www.isna.ir/news/99091915374/آیت-الله-یزدی-از-بدو-جوانی-تا-امروز-در-خط-امام-ثابت-قدم-بودند\n",
      "https://www.isna.ir/news/99093023479/کمیسیون-آموزش-بند-مربوط-به-اجرای-سند-٢٠٣٠-را-از-بودجه-حذف-کرد\n",
      "https://www.isna.ir/news/99093023461/باشگاه-های-ورزشی-با-رعایت-پروتکل-های-بهداشتی-بازگشایی-شود\n",
      "https://www.isna.ir/news/99100100740/مصوبه-کمیسیون-صنایع-برای-افزایش-اعتبارات-شبکه-ملی-اطلاعات-در\n",
      "https://www.isna.ir/news/99100201557/نامه-تعدادی-از-نمایندگان-مجلس-به-انصاری-برای-تعویق-برگزاری-آزمون\n",
      "https://www.isna.ir/news/99100302676/وزارت-اطلاعات-مطالب-منتشر-شده-علیه-اتباع-افغانستانی-کذب-است\n",
      "https://www.isna.ir/news/99102115962/تصویب-کلیات-طرح-رایگان-شدن-اینترنت-برای-دانش-آموزان-معلمان-و\n",
      "https://www.isna.ir/news/99110503456/اصلاح-طلبان-اجماع-ساز-مشخص-شدند\n",
      "https://www.isna.ir/news/99110906701/زاویه-دولت-و-صداوسیما-برطرف-می-شود\n",
      "https://www.isna.ir/news/99112518503/تا-اصلاح-قوانین-موجود-خروج-آثار-ثبتی-از-فهرست-میراث-ملی-را\n",
      "https://www.isna.ir/news/99112619479/بررسی-مواد-ارجاعی-طرح-جهش-تولید-و-تامین-مسکن-در-کمیسیون-عمران\n",
      "https://www.isna.ir/news/99120201039/یک-میلیون-و-نیم-از-جمعیت-روستایی-بیمه-رایگان-شده-اند\n",
      "https://www.isna.ir/news/99122821736/طرح-سوال-از-وزیر-صمت-درباره-شیرین-کردن-آب-دریا-و-رساندن-آن-به\n",
      "https://www.isna.ir/news/98011203630/حمایت-مجلس-از-برنامه-های-سازمان-میراث-فرهنگی-صنایع-دستی-و-گردشگری\n",
      "https://www.isna.ir/news/98011907012/موافقت-کمیسیون-صنایع-با-تقسیم-وزارت-صنعت-معدن-و-تجارت-به-دو\n",
      "https://www.isna.ir/news/98020502638/کاتب-با-تذکر-رهبری-نباید-برنده-باش-پخش-شود-شورای-نظارت-ورود\n",
      "https://www.isna.ir/news/98020703679/بوشهر-میزبان-رزمایش-سالانه-استان-های-هسته-ای-می-شود\n",
      "https://www.isna.ir/news/98020703666/اهمال-دبیرخانه-شورای-نظارت-بر-صداوسیما-در-تهیه-گزارش-ستاره-مربع-ها\n",
      "https://www.isna.ir/news/98022814815/اعتراض-نماینده-دولت-در-شورای-نظارت-بر-صداوسیما-نسبت-به-تبلیغات\n",
      "https://www.isna.ir/news/98030301055/علی-ربیعی-سخنگوی-دولت-شد\n",
      "https://www.isna.ir/news/98040904698/همایش-آمریکا-و-جنایت-های-قرن-برگزار-می-شود\n",
      "https://www.isna.ir/news/98042110862/اذعان-شخص-دوم-سفارت-انگلیس-به-پشیمانی-لندن-از-همراهی-با-آمریکا\n",
      "https://www.isna.ir/news/98042312154/حمله-افراد-ناشناس-به-خودروی-نماینده-اصفهان-راننده-سالک-مورد\n",
      "https://www.isna.ir/news/98042412776/جزئیات-تیراندازی-راننده-نماینده-اصفهان-در-مجلس\n",
      "https://www.isna.ir/news/98042614083/سخنرانی-ظریف-در-شورای-اقتصادی-اجتماعی-ملل-متحد\n",
      "https://www.isna.ir/news/98051306762/دستورالعمل-اعلام-بر-خط-ظرفیت-پذیرش-زندانیان-ابلاغ-شد\n",
      "https://www.isna.ir/news/98052010141/واکنش-وزارت-خارجه-به-تلاش-آمریکایی-ها-برای-مسدود-کردن-حساب-های\n",
      "https://www.isna.ir/news/98052110238/برائت-از-آمریکا-و-صهیونیست-جلوه-غیرت-دینی-است-فقه-ما-مخالف\n",
      "https://www.isna.ir/news/98061206728/مازیار-ابراهیمی-شکنجه-نشده-است-به-او-غرامت-داده-اند\n",
      "https://www.isna.ir/news/98062009675/به-آینده-امیدوار-باشید-دولت-به-آبادانی-روستای-شما-کمک-می-کند\n",
      "https://www.isna.ir/news/98062210221/مطهری-در-شبکه-سه-اتهام-زدند-خواستار-پاسخگویی-ام\n",
      "https://www.isna.ir/news/98072116051/نیروگاه-اتمی-بوشهر-با-قدرت-به-کار-خود-ادامه-می-دهد\n",
      "https://www.isna.ir/news/98082717837/تلاش-مسئولان-برای-رفع-نگرانی-مردم-از-آسیب-رسان-بودن-پارازیت-ها\n",
      "https://www.isna.ir/news/98093022449/تقاضای-وکیل-مدافع-مالباختگان-پرونده-رامک-خودرو-از-دادستان-کل\n",
      "https://www.isna.ir/news/98100201657/درآمد-۱۴۰-میلیون-یورویی-کشور-از-محل-صادرات-گاز-مایع\n",
      "https://www.isna.ir/news/98110806104/هنوز-هیچکدام-از-داوطلبان-ردصلاحیت-شده-استان-سمنان-تایید-نشدند\n",
      "https://www.isna.ir/news/98112216539/فروزنده-اقتصاد-دانش-بنیان-و-اقتصاد-مقاومتی-راه-نجات-کشور-است\n",
      "https://www.isna.ir/news/98112518345/پخش-تلویزیونی-وصیت-نامه-شهید-سلیمانی-با-قرائت-سردار-قاآنی\n",
      "https://www.isna.ir/news/98121310879/سخنگوی-سپاه-سردار-قاآنی-هیچ-صفحه-ای-در-فضای-مجازی-ندارد\n",
      "https://www.isna.ir/news/99010703260/موفقیت-رمزی-تاخیر-ارزی\n",
      "https://www.isna.ir/news/99012212100/دریچه-های-تحتانی-سد-الغدیر-باز-شد\n",
      "https://www.isna.ir/news/99012413957/توقف-نیروگاه-اتمی-بوشهر-به-علت-تعویض-سوخت-و-تعمیرات-نیمه-اساسی\n",
      "https://www.isna.ir/news/99020100739/استفاده-از-بورس-برای-واگذاری-سهام-بنگاه-های-شبکه-بانکی\n",
      "https://www.isna.ir/news/99020100738/واگذاری-۶۲-هزار-اینترنت-VDSL-برای-مشترکان-مخابرات\n",
      "https://www.isna.ir/news/99020100550/بدافزار-سارق-رمز-عبور-وای-فای-فعالیت-خود-را-از-سرگرفت\n",
      "https://www.isna.ir/news/99020302557/ساخت-مسکن-برای-کادر-درمانی-۳۸-پروژه-در-پرند-افتتاح-شد\n",
      "https://www.isna.ir/news/99020503417/بررسی-ظرفیت-های-رادیو-اقتصاد-برای-جهش-تولید-و-حل-مسائل-اقتصادی\n",
      "https://www.isna.ir/news/99021611624/مهلت-اجرای-مصوبه-خدمات-ارزش-افزوده-تمدید-شد\n",
      "https://www.isna.ir/news/99021611490/نمایشگاه-اینوتکس-۲۰۲۰-مرداد-را-آنلاین-دنبال-کنید\n",
      "https://www.isna.ir/news/99022417827/چرا-ارائه-اینترنت-رایگان-ادامه-دار-نشد\n",
      "https://www.isna.ir/news/99022920971/افزایش-۱۱۰-درصدی-مصرف-اینترنت-در-سال-۹۸\n",
      "https://www.isna.ir/news/99023021935/احیای-یک-شرکت-در-بندر-دیر-و-ایجاد-۷۰۰-شغل-برکت-برای-جوانان\n",
      "https://www.isna.ir/news/99030602974/رشد-۳۲۸-درصدی-واردات-تلفن-همراه\n",
      "https://www.isna.ir/news/99031207371/مشترکان-در-دریافت-اینترنت-ثابت-قدرت-انتخاب-دارند\n",
      "https://www.isna.ir/news/99031408832/افتتاح-۹-پروژه-صنعت-برق-در-استان-بوشهر-با-سرمایه-گذاری-۲۴۲۰-میلیارد\n",
      "https://www.isna.ir/news/99031408732/مصرف-برق-در-ایران-از-دنیا-جلو-زد\n",
      "https://www.isna.ir/news/99031509040/افتتاح-طرح-های-برق-رسانی-توسعه-استان-بوشهر-را-شتاب-می-دهد\n",
      "https://www.isna.ir/news/99031911725/ساخت-مستندی-از-ارسال-محموله-سوخت-ایران-به-ونزوئلا\n",
      "https://www.isna.ir/news/99032415183/اتصال-۱۷-روستای-استان-بوشهر-به-شبکه-ملی-اطلاعات\n",
      "https://www.isna.ir/news/99032818031/داستان-رومینگ-و-هزینه-بین-الملل-تماس-داخلی\n",
      "https://www.isna.ir/news/99040100790/چرا-هزینه-تلفن-ثابت-گران-شد\n",
      "https://www.isna.ir/news/99040504252/وضعیت-مصرف-برق-در-کهگیلویه-و-بویراحمد-قرمز-شد-مردم-۱۰درصد-کاهش\n",
      "https://www.isna.ir/news/99042115584/تنها-درصورت-خروج-از-کشور-تعرفه-ها-رومینگ-می-شود\n",
      "https://www.isna.ir/news/99042115530/جریمه-دو-میلیارد-تومانی-در-انتظار-اپراتورهاست\n",
      "https://www.isna.ir/news/99042619611/قدردانی-یک-نماینده-از-بخشنامه-اخیر-رییس-قوه-قضاییه-در-مورد-بانک-ها\n",
      "https://www.isna.ir/news/99042921686/انتشار-نقشه-مصرف-برق-با-۹-استان-و-۳-کلانشهر-قرمز\n",
      "https://www.isna.ir/news/99050402406/کدام-استانها-قرمز-هستند\n",
      "https://www.isna.ir/news/99050906650/خاموشی-برنامه-ریزی-شده-در-پایتخت-نداریم\n",
      "https://www.isna.ir/news/99051007055/چهار-استان-جدید-امسال-به-شبکه-ریلی-متصل-می-شوند\n",
      "https://www.isna.ir/news/99051107871/تقویت-امنیت-شبکه-های-صنعتی-در-مقابل-حملات-سایبری-با-محصولات-دانش-بنیان\n",
      "https://www.isna.ir/news/99051511570/عامل-قطعی-مکرر-برق-پایتخت-دستگیر-شد\n",
      "https://www.isna.ir/news/99051612468/برای-تامین-آب-شرب-استان-بوشهر-چه-اقداماتی-انجام-می-شود\n",
      "https://www.isna.ir/news/99051813052/تجدیدپذیرها-چقدر-برق-تولید-کردند\n",
      "https://www.isna.ir/news/99052216537/راه-اندازی-یک-میلیون-پورت-VDSL-تا-پایان-سال\n",
      "https://www.isna.ir/news/99052316987/کاهش-تعداد-پیامک-های-ورودی-به-اپراتورهای-همراه\n",
      "https://www.isna.ir/news/99052518084/افزایش-ترافیک-ورودی-اپراتورهای-همراه\n",
      "https://www.isna.ir/news/99052720105/موفقیت-۷۰-درصدی-مذاکرات-سرمایه-گذاری-در-اینوتکس-۲۰۲۰\n",
      "https://www.isna.ir/news/99052820949/سوال-کنندگان-پاسخ-های-وزیر-نیرو-در-کمیسیون-انرژی-را-بررسی-می\n",
      "https://www.isna.ir/news/99061612051/وجود-بانوان-تسهیلگر-نقش-زنان-روستایی-را-پررنگ-تر-کرد\n",
      "https://www.isna.ir/news/99061712954/نخستین-جشنواره-پست-و-رسانه-برگزار-می-شود\n",
      "https://www.isna.ir/news/99062015311/خط-ریلی-خزر-به-خلیج-فارس-امسال-برقرار-می-شود\n",
      "https://www.isna.ir/news/99062115887/سهمیه-مصوبه-حداقل-۵۰-درصد-اشتغال-بومی-رعایت-نمی-شود\n",
      "https://www.isna.ir/news/99062821214/معلمان-بازمانده-از-بسته-های-رایگان-اینترنتی-چه-کنند\n",
      "https://www.isna.ir/news/99062921874/واردکنندگان-هیچ-نقشی-در-توزیع-نهاده-های-دامی-ندارند\n",
      "https://www.isna.ir/news/99070402483/تاثیر-رومینگ-ملی-بر-توسعه-و-هزینه-شبکه-ارتباطی\n",
      "https://www.isna.ir/news/99070503287/پروپوزال-ها-به-پروژه-های-صنعتی-تبدیل-می-شوند\n",
      "https://www.isna.ir/news/99070806334/تدوین-و-اجرای-۳۲-پروژه-در-راستای-جهش-تولید-در-استان-بوشهر\n",
      "https://www.isna.ir/news/99071310020/جزییات-بسته-حمایتی-دانشجویان-نهایی-شد\n",
      "https://www.isna.ir/news/99071712978/روان-بخشی-روستاها-با-طرح-هادی\n",
      "https://www.isna.ir/news/99072719997/۱۱-میلیون-دانش-آموز-از-شاد-استفاده-می-کنند\n",
      "https://www.isna.ir/news/99080100344/پوشش-متقاضیان-بوشهر-و-عالیشهر-در-طرح-اقدام-ملی-مسکن-شهر-جدید\n",
      "https://www.isna.ir/news/99080502906/واکنش-زنگنه-به-تحریم-مدیران-نفتی-از-سوی-آمریکا\n",
      "https://www.isna.ir/news/99081006301/فاز-نخست-خط-انتقال-آب-سیراف-جم-تا-پایان-سال-وارد-مدار-می-شود\n",
      "https://www.isna.ir/news/99082114583/توزیع-دومین-مرحله-تجهیزات-پزشکی-پتروشیمی-های-منطقه-پارس\n",
      "https://www.isna.ir/news/99091209658/بررسی-فناوری-های-نسل-آتی-مخابراتی-در-سمپوزیوم-بین-المللی-پژوهشگاه\n",
      "https://www.isna.ir/news/99091511433/مصوبه-تعیین-حق-امتیاز-صدور-پروانه-فعالیت-کارور-ماهواره-ای-مخابراتی\n",
      "https://www.isna.ir/news/99091713481/وزارت-صمت-هیچ-فرآیند-برای-تحویل-مرغ-از-مرغداران-تعریف-نکرده\n",
      "https://www.isna.ir/news/99092015554/جزییات-افتتاح-ششمین-مرز-ریلی-کشور\n",
      "https://www.isna.ir/news/99100100740/مصوبه-کمیسیون-صنایع-برای-افزایش-اعتبارات-شبکه-ملی-اطلاعات-در\n",
      "https://www.isna.ir/news/99100100528/صداوسیما-برای-تبلیغ-روغن-های-سه-کاره-تذکر-گرفت\n",
      "https://www.isna.ir/news/99100201639/واکنش-بانک-مرکزی-به-نامه-صمت-بخشنامه-به-درخواست-شما-صادر-شد\n",
      "https://www.isna.ir/news/99100403187/اختصاص-اعتبار-۳۰-میلیاردی-به-مرکز-جامع-سلامت-رفع-کمبود-فضای\n",
      "https://www.isna.ir/news/99102216619/طرح-سوالات-نمایندگان-از-آذری-جهرمی-در-کمیسیون-صنایع\n",
      "https://www.isna.ir/news/99102720148/علت-خاموشی-های-اخیر-و-ارتباط-آن-با-بیت-کوین\n",
      "https://www.isna.ir/news/99111511732/۲۶پروژه-با-۲۳۰۰میلیارد-تومان-در-کردستان-افتتاح-می-شود\n",
      "https://www.isna.ir/news/99111813428/تامین-کننده-اصلی-زیرساخت-انتقال-در-سراسر-کشور-کیست\n",
      "https://www.isna.ir/news/99112317540/آغاز-نخستین-اپراتور-تخصصی-اینترنت-اشیاء-با-پوشش-کامل-در-تهران\n",
      "https://www.isna.ir/news/99112619479/بررسی-مواد-ارجاعی-طرح-جهش-تولید-و-تامین-مسکن-در-کمیسیون-عمران\n",
      "https://www.isna.ir/news/99112619164/برگزاری-یک-نمایشگاه-سه-ماهه-در-ایران\n",
      "https://www.isna.ir/news/99120302015/اینستاگرام-بازار-اصلی-تجارت-مجازی-ایران\n",
      "https://www.isna.ir/news/99122216802/وضعیت-برق-تا-نیمه-شب-پایدار-می-شود\n",
      "https://www.isna.ir/news/99122418364/افتتاح-بخش-مهم-آزادراه-اصفهان-شیراز-تا-پایان-خرداد-۱۴۰۰\n",
      "https://www.isna.ir/news/98010802211/ارسال-هر-پیامک-چقدر-هزینه-دارد\n",
      "https://www.isna.ir/news/98011404255/پاکستان-هم-به-جمع-صادرکنندگان-ارز-مجازی-می-پیوندد\n",
      "https://www.isna.ir/news/98011705497/وزارت-نیرو-همچنان-به-دنبال-وصول-مطالبات-از-عراق\n",
      "https://www.isna.ir/news/98011907012/موافقت-کمیسیون-صنایع-با-تقسیم-وزارت-صنعت-معدن-و-تجارت-به-دو\n",
      "https://www.isna.ir/news/98012208886/سد-سفیدرود-مشکل-پایداری-ندارد\n",
      "https://www.isna.ir/news/98012208784/خسارت-500-میلیارد-تومانی-2-سیلاب-به-راه-های-مازندران\n",
      "https://www.isna.ir/news/98012611074/ضرورت-عملیاتی-شدن-واردات-کالای-ملوانی-در-بوشهر\n",
      "https://www.isna.ir/news/98020200842/وضعیت-هجوم-ملخ-ها-در-یزد-نگران-کننده-نیست\n",
      "https://www.isna.ir/news/98020200723/پس-زدگی-فاضلاب-قم-در-زمان-بارندگی\n",
      "https://www.isna.ir/news/98020301669/خسارت-۳۰۰۰-میلیارد-تومانی-سیل-به-تاسیسات-آب-و-برق\n",
      "https://www.isna.ir/news/98020602884/قابل-توجه-مشترکین-موبایل-که-صورتحساب-نادرست-پرداخت-کردند\n",
      "https://www.isna.ir/news/98020703646/تعهد-برای-ایجاد-6000-شغل-برای-زنان-سرپرست-خانوار-با-مشارکت-جهاددانشگاهی\n",
      "https://www.isna.ir/news/98020804181/پرورش-کنه-شکارگر-برای-اولین-بار-در-همدان\n",
      "https://www.isna.ir/news/98020804073/ارز-مسافرتی-۴۵۰-تومان-گران-شد\n",
      "https://www.isna.ir/news/98021106312/پروژه-زمین-گرمایی-سبلان-توسعه-پیدا-می-کند\n",
      "https://www.isna.ir/news/98021106219/افزایش-امنیت-کار-و-تخصص-کارکنان-شرکت-گاز\n",
      "https://www.isna.ir/news/98021106119/آمارهای-واقعی-بیکاری-اردبیل-ارائه-شود\n",
      "https://www.isna.ir/news/98021709341/آب-شرب-پلدشت-قابل-آشامیدن-نیست\n",
      "https://www.isna.ir/news/98021709278/دلال-بازی-در-فروش-آرد-اصفهان\n",
      "https://www.isna.ir/news/98021809926/دستگیری-دو-قاچاقچی-با-۱۰-تن-شکر-در-کرج\n",
      "https://www.isna.ir/news/98022613846/خبر-خوب-وزیر-ارتباطات\n",
      "https://www.isna.ir/news/98022814906/نرخ-فروش-برنج-در-بازار-با-نرخ-خریداری-شده-از-کشاورز-همخوانی-ندارد\n",
      "https://www.isna.ir/news/98023015936/۲۷-پروژه-بزرگ-در-آذربایجان-غربی-با-حضور-رئیس-جمهور-افتتاح-می-شود\n",
      "https://www.isna.ir/news/98030200727/پتروشیمی-عسلویه-کمکی-به-درآمدزایی-بوشهر-نمی-کند\n",
      "https://www.isna.ir/news/98030502110/افزایش-تولید-در-مجتمع-گاز-پارس-جنوبی\n",
      "https://www.isna.ir/news/98030502054/واژگونی-خودروی-حمل-گوشت-وارداتی-در-خاتم-یزد\n",
      "https://www.isna.ir/news/98030502034/فرو-رفت-قنات-در-یزد\n",
      "https://www.isna.ir/news/98030501963/برقراری-تردد-قطار-گرگان-اینچه-برون-تا-چند-روز-آینده\n",
      "https://www.isna.ir/news/98030803621/پیک-مصرف-برق-به-۴۸-هزار-مگاوات-نزدیک-شد\n",
      "https://www.isna.ir/news/98030803619/رتبه-آخر-کردستان-در-برخورداری-از-جاده-های-کشور\n",
      "https://www.isna.ir/news/98031104979/بازسازی-و-بازیابی-اولیه-شبکه-های-برق-مناطق-سیل-زده-استان-لرستان\n",
      "https://www.isna.ir/news/98031306083/افزایش-۱۶-میلیارد-مترمکعبی-ذخایر-سدها-نسبت-به-سال-آبی-گذشته\n",
      "https://www.isna.ir/news/98031406337/هنوز-خسارت-شبکه-آب-و-فاضلاب-خوزستان-پرداخت-نشده-است\n",
      "https://www.isna.ir/news/98031506436/از-پرداخت-خود-مطمئن-شوید\n",
      "https://www.isna.ir/news/98031406337/هنوز-خسارت-شبکه-آب-و-فاضلاب-خوزستان-پرداخت-نشده-است\n",
      "https://www.isna.ir/news/98032210349/شبکه-ریلی-در-برخی-استان-ها-توسعه-یافته-ولی-قطاری-برای-تردد-نیست\n",
      "https://www.isna.ir/news/98032210348/برنامه-ویژه-وزارت-ارتباطات-برای-۵۰۰-روستای-محروم-از-پوشش-تلفن\n",
      "https://www.isna.ir/news/98033014712/بازدید-مدیرعامل-شرکت-آب-و-فاضلاب-از-طرح-آبرسانی-به-شهر-و-۱۱-روستا\n",
      "https://www.isna.ir/news/98033014647/بهره-برداری-از-پروژه-مرکز-داده-ابر-ششم-طرح-فهام-کشور-در-اصفهان\n",
      "https://www.isna.ir/news/98041608305/ساخت-دستگاه-کنترل-هوشمند-تجهیزات-سرمایشی\n",
      "https://www.isna.ir/news/98041809530/آغاز-کار-سامانه-رصد-زنجیره-تأمین-کالاهای-اساسی-برای-نخستین-بار\n",
      "https://www.isna.ir/news/98042614135/تصویب-موضوع-تسری-قوانین-منطقه-آزاد-به-بندر-چابهار\n",
      "https://www.isna.ir/news/98042915326/سرقت-کابل-برق-از-دلایل-خاموشی-ها-در-قم\n",
      "https://www.isna.ir/news/98042915324/آغاز-ساخت-25-کیلومتر-راه-آهن-اردبیل-پارس-آباد-در-سال-آینده\n",
      "https://www.isna.ir/news/98050904724/اعلام-آمادگی-افغانستان-برای-ایجاد-گمرکات-۲۴-ساعته\n",
      "https://www.isna.ir/news/98051407311/بزرگراهی-که-شما-را-خیلی-سریع-به-کربلا-می-رساند\n",
      "https://www.isna.ir/news/98051507987/نباید-از-فضای-مجازی-بترسیم\n",
      "https://www.isna.ir/news/98051708971/تجهیز-یک-میلیون-هکتار-از-باغات-و-مزارع-کشاورزی-به-سیستم-های-نوین\n",
      "https://www.isna.ir/news/98051708955/ورود-9-میلیون-تن-کالای-اساسی-4-میلیارد-دلاری-به-کشور\n",
      "https://www.isna.ir/news/98052010064/ماجرای-ورود-سموم-شیمیایی-به-سد-قشلاق-کردستان-چه-بود\n",
      "https://www.isna.ir/news/98052009877/این-استان-مقام-اول-فرونشست-را-در-جهان-دارد\n",
      "https://www.isna.ir/news/98052411888/اولین-معامله-موفق-برق-صنایع-پس-از-گذشت-بیش-از-یکسال\n",
      "https://www.isna.ir/news/98052813837/هجوم-مردم-برای-خرید-کالا-از-چالش-های-تنظیم-بازار\n",
      "https://www.isna.ir/news/98060200800/آغاز-ساخت-یک-پست-برق-۴۰۰-کیلوولتی-در-کرج\n",
      "https://www.isna.ir/news/98060401909/ابطال-ابلاغیه-بانک-مرکزی-درمورد-بیت-کوین-تایید-شد\n",
      "https://www.isna.ir/news/98060502769/افتتاح-10-سد-بزرگ-در-کشور-تا-پایان-امسال\n",
      "https://www.isna.ir/news/98060603533/کاهش-۲۲-روزه-فرایند-ترخیص-کالا-از-گمرک\n",
      "https://www.isna.ir/news/98060804038/اتصال-۷۸-درصد-از-روستاها-به-شبکه-ملی-اطلاعات-در-طول-یکسال-گذشته\n",
      "https://www.isna.ir/news/98060904594/ارزانی-مسکن-شر-درست-می-کند\n",
      "https://www.isna.ir/news/98061407619/اشتغالزایی-2000-نفر-برای-گازرسانی-به-سیستان-و-بلوچستان\n",
      "https://www.isna.ir/news/98061608134/بیشترین-تخلفات-صنفی-را-بشناسید\n",
      "https://www.isna.ir/news/98061708789/کشت-هزار-هکتار-چغندر-پائیزه-در-سه-استان\n",
      "https://www.isna.ir/news/98061708643/علت-مخالفت-برخی-با-توسعه-فناوری-اطلاعات-از-نگاه-وزیر-ارتباطات\n",
      "https://www.isna.ir/news/98061909208/اعطای-گرنت-۵۰-درصدی-برای-استفاده-از-خدمات-تخصصی-نانوپوشش-ها\n",
      "https://www.isna.ir/news/98062009861/تنها-5-درصد-قطارهای-ایران-پنج-ستاره-اند\n",
      "https://www.isna.ir/news/98062009675/به-آینده-امیدوار-باشید-دولت-به-آبادانی-روستای-شما-کمک-می-کند\n",
      "https://www.isna.ir/news/98062310721/اپراتور-رایتل-دچار-اختلال-شد\n",
      "https://www.isna.ir/news/98062612856/معاون-بانک-مرکزی-برکنار-شد\n",
      "https://www.isna.ir/news/98062612691/افزایش-دو-برابری-تصفیه-خانه-های-فاضلاب-در-کشور\n",
      "https://www.isna.ir/news/98062612685/تدوین-برنامه-پیک-سایی-و-عبور-از-پیک-بار-سال-99\n",
      "https://www.isna.ir/news/98062713271/بعد-مسافت-تامین-شکر-را-دچار-چالش-کرده-است\n",
      "https://www.isna.ir/news/00061215428/هشدار-پلیس-درمورد-کلاهبرداری-با-بنزین-دونرخی\n",
      "https://www.isna.ir/news/98070907076/دانشگاه-شریف-میزبان-نهمین-کنفرانس-شبکه-های-هوشمند-انرژی\n",
      "https://www.isna.ir/news/98070906912/مجمع-نمایندگان-تهران-برای-حل-مشکلات-حوزه-آب-و-فاضلاب-کارگروهی\n",
      "https://www.isna.ir/news/98071108447/حقوق-معوق-۶-ماهه-کارکنان-هپکو-پرداخت-شد\n",
      "https://www.isna.ir/news/98071511904/بهره-مندی-۳۸۲۰-روستا-از-آب-آشامیدنی-سالم-تا-پایان-کار-دولت\n",
      "https://www.isna.ir/news/98072116051/نیروگاه-اتمی-بوشهر-با-قدرت-به-کار-خود-ادامه-می-دهد\n",
      "https://www.isna.ir/news/98072317933/گوگل-از-پیکسل-۴-و-سایر-پرچمداران-جدیدش-رونمایی-کرد\n",
      "https://www.isna.ir/news/98072719821/کل-مسیر-اربعین-در-عراق-به-اینترنت-نسل-سوم-مجهز-بود\n",
      "https://www.isna.ir/news/98072719809/ایجاد-روزانه-پنج-صفحه-جعلی-توسط-کلاهبرداران\n",
      "https://www.isna.ir/news/98080201194/دلیل-اختلال-در-شبکه-ساتنا\n",
      "https://www.isna.ir/news/98080804418/جزئیات-تحریم-های-مشترک-آمریکا-و-٦-کشور-عربی-علیه-ایران\n",
      "https://www.isna.ir/news/98081005023/شبکه-برق-ایران-و-عراق-سنکرون-شد-یکسان-سازی-فرکانس-برق-دو-کشور\n",
      "https://www.isna.ir/news/98081408463/٢٤-میلیارد-از-٥٠-میلیارد-مترمکعب-مخازن-سدها-خالی-است\n",
      "https://www.isna.ir/news/98081710012/معضل-بیکاری-نیازمند-برنامه-های-ضربتی\n",
      "https://www.isna.ir/news/98081911661/بخش-بخار-نیروگاه-گهران-فردا-توسط-رئیس-جمهور-بهره-برداری-می-شود\n",
      "https://www.isna.ir/news/98082214373/برنامه-ضدفیشینگ-بدافزار-از-آب-درآمد\n",
      "https://www.isna.ir/news/98083019640/اتصال-اینترنت-۷-دانشگاه-بزرگ-تهران\n",
      "https://www.isna.ir/news/98083019632/آغاز-اتصال-اینترنت-به-صورت-محدود\n",
      "https://www.isna.ir/news/98090200752/مخابرات-۱۰-روز-به-اینترنت-کاربران-اضافه-کرد\n",
      "https://www.isna.ir/news/98090402429/شبکه-سازی-طرح-فعلی-وزارت-علوم-است\n",
      "https://www.isna.ir/news/98090604289/اتصال-اینترنت-موبایل-در-تهران-و-چند-استان\n",
      "https://www.isna.ir/news/98090704731/اتصال-اینترنت-موبایل-7-استان-دیگر-از-امروز\n",
      "https://www.isna.ir/news/98090905992/اینترنت-خوزستان-هم-متصل-شد\n",
      "https://www.isna.ir/news/98091208801/مراقب-کلاهبرداران-آبی-باشید\n",
      "https://www.isna.ir/news/98091914289/مدارس-شهرستان-دیواندره-تعطیل-می-شود\n",
      "https://www.isna.ir/news/98100201657/درآمد-۱۴۰-میلیون-یورویی-کشور-از-محل-صادرات-گاز-مایع\n",
      "https://www.isna.ir/news/98100302656/۱۵۴-میلیون-دلار-کالا-از-قم-صادر-شد\n",
      "https://www.isna.ir/news/98100906661/رقابت-تیم-های-نانویی-برای-تولید-فرآورده-های-دارویی-و-آرایشی-ویژه\n",
      "https://www.isna.ir/news/98101108694/تولید-بیش-از-۹۵-درصد-از-تجهیزات-آب-و-فاضلاب-در-کشور\n",
      "https://www.isna.ir/news/98101612728/خطر-تخریب-ساحل-گردشگری-بندر-مقام-فیلم\n",
      "https://www.isna.ir/news/98101713628/آغاز-تولید-بذر-هیبرید-گزارشی-از-کمیابی-نهاده-های-کشاورزی-وجود\n",
      "https://www.isna.ir/news/98102821610/ماجرای-یک-شایعه-هوتک-یا-آب-لوله-کشی\n",
      "https://www.isna.ir/news/98110503468/محاسبه-جریمه-وکلای-متخلف-در-زمان-رسیدگی-به-اظهارنامه-مالیاتی\n",
      "https://www.isna.ir/news/98111812880/باید-با-سیل-سازگار-شویم-مصرف-گاز-کاهش-نیابد-احتمال-خاموشی-هست\n",
      "https://www.isna.ir/news/98112216442/رفع-اختلال-همراه-اول-و-ایرانسل-در-گیلان-به-محض-اتصال-برق\n",
      "https://www.isna.ir/news/98112417884/آیین-کلنگ-زنی-نیروگاه-سیکل-ترکیبی-مازندران-با-اعتباری-بالغ-بر\n",
      "https://www.isna.ir/news/98122519505/بسیج-همگانی-برای-مقابله-با-شیوع-کووید-۱۹-در-پایتخت-انرژی-کشور\n",
      "https://www.isna.ir/news/99010501904/وظایف-مردم-و-دولت-برای-مبارزه-با-همه-گیری-کرونا\n",
      "https://www.isna.ir/news/99010703276/نامه-بیش-از-۳۰۰-سازمان-مردم-نهاد-به-سازمان-ملل-برای-لغو-تحریم-های\n",
      "https://www.isna.ir/news/99011406871/۲۶۵-ایرانی-از-مرز-ترکیه-وارد-کشور-شدند\n",
      "https://www.isna.ir/news/99011406780/نگاهی-به-فعالیت-های-انجمن-اوتیسم-ایران-در-شش-سال-گذشته\n",
      "https://www.isna.ir/news/99011306657/چگونه-از-بروز-انگ-اجتماعی-نسبت-به-مبتلایان-به-کرونا-پیشگیری\n",
      "https://www.isna.ir/news/99011507292/راهبردهایی-جهت-مهار-اپیدمی-کرونا-در-روزهای-آینده\n",
      "https://www.isna.ir/news/99011809670/کرونا-در-ایران-شدیدتر-از-آنفلوآنزا-خطر-پیک-مجدد-بیماری-در-تهران\n",
      "https://www.isna.ir/news/99012715875/بهترین-رفرنس-گندزدایی-سطوح-محلول-آب-ژاول-است\n",
      "https://www.isna.ir/news/99021611750/اقدامات-هلال-احمر-ایران-در-مقابله-با-بیماری-کووید-۱۹-چشمگیر-بود\n",
      "https://www.isna.ir/news/99021611367/نشست-مجازی-تبادل-تجربیات-علم-و-فناوری-درباره-ویروس-کرونا\n",
      "https://www.isna.ir/news/99021813142/۱۴۸۵-مبتلا-و-۶۸-فوتی-جدید-کرونا-در-کشور-وضعیت-طغیانی-خوزستان\n",
      "https://www.isna.ir/news/99021813142/۱۴۸۵-مبتلا-و-۶۸-فوتی-جدید-کرونا-در-کشور-وضعیت-طغیانی-خوزستان\n",
      "https://www.isna.ir/news/99032012263/سخنگوی-وزارت-بهداشت-منصوب-شد\n",
      "https://www.isna.ir/news/99032314488/چند-نکته-برای-پیشگیری-از-ابتلا-به-کرونا-در-فروشگاه-ها\n",
      "https://www.isna.ir/news/99032515909/یک-وضعیت-اورژانسی-به-نام-گرمازدگی\n",
      "https://www.isna.ir/news/99032616480/سوالات-تغذیه-ای-خود-در-شرایط-کرونا-را-از-سامانه-۴۰۳۰-بپرسید\n",
      "https://www.isna.ir/news/99040100386/مصوبات-ستاد-مبارزه-با-کرونا-در-بوشهر-از-تب-سنجی-تا-تعطیلی-پارک-ها\n",
      "https://www.isna.ir/news/99040403340/ختم-آنلاین-و-الزامات-سوگ-ناشی-از-کرونا\n",
      "https://www.isna.ir/news/99040503875/چگونه-سینما-و-تئاتر-برویم-اما-کرونا-نگیریم\n",
      "https://www.isna.ir/news/99040403340/ختم-آنلاین-و-الزامات-سوگ-ناشی-از-کرونا\n",
      "https://www.isna.ir/news/99040503875/چگونه-سینما-و-تئاتر-برویم-اما-کرونا-نگیریم\n",
      "https://www.isna.ir/news/99041108939/افزایش-۷-۹-درصدی-آمار-بستری-بیماران-کرونایی-در-بیمارستان-های\n",
      "https://www.isna.ir/news/99041108939/افزایش-۷-۹-درصدی-آمار-بستری-بیماران-کرونایی-در-بیمارستان-های\n",
      "https://www.isna.ir/news/99041914154/تنها-نیستید-سرمایه-های-نظام-سلامت-را-به-میدان-بیاورید\n",
      "https://www.isna.ir/news/99041914154/تنها-نیستید-سرمایه-های-نظام-سلامت-را-به-میدان-بیاورید\n",
      "https://www.isna.ir/news/99042115455/چگونه-کولرها-فضایی-برای-رشد-قارچ-ویروس-و-باکتری-می-شوند\n",
      "https://www.isna.ir/news/99042216167/روند-صعودی-کرونا-در-۹-استان-کشور\n",
      "https://www.isna.ir/news/99050100718/چه-بخش-هایی-درباره-کلینیک-سینا-کم-کاری-کردند\n",
      "https://www.isna.ir/news/99050100718/چه-بخش-هایی-درباره-کلینیک-سینا-کم-کاری-کردند\n",
      "https://www.isna.ir/news/99050301702/تلخ-و-شیرین-۱۵۴-روز-جولان-کرونا\n",
      "https://www.isna.ir/news/99050603987/انگ-اجتماعی-ترس-کاذب-و-رشد-کرونا\n",
      "https://www.isna.ir/news/99051309166/تغذیه-کودکان-با-شیر-مادر-در-اپیدمی-کرونا\n",
      "https://www.isna.ir/news/99051913592/اشتباه-بزرگ-درباره-بیماران-کرونایی\n",
      "https://www.isna.ir/news/99060504749/در-شرایط-کرونایی-چگونه-عزاداری-کنیم\n",
      "https://www.isna.ir/news/99060504749/در-شرایط-کرونایی-چگونه-عزاداری-کنیم\n",
      "https://www.isna.ir/news/99061611281/درباره-مهم-ترین-بحران-سلامت-قرن-۲۱\n",
      "https://www.isna.ir/news/99061914826/نامه-نمکی-به-رییس-دستگاه-قضا-در-پی-ادعاهایی-درباره-پیمانکاری\n",
      "https://www.isna.ir/news/99061914826/نامه-نمکی-به-رییس-دستگاه-قضا-در-پی-ادعاهایی-درباره-پیمانکاری\n",
      "https://www.isna.ir/news/99070604295/وعده-صداوسیما-به-ناشنوایان\n",
      "https://www.isna.ir/news/99070603813/ورود-۶-هزار-واکسن-آنفلوآنزا-به-استان-بوشهر\n",
      "https://www.isna.ir/news/99071007755/زعفران-برای-روز-ناشنوایان-برنامه-دارد\n",
      "https://www.isna.ir/news/99071007755/زعفران-برای-روز-ناشنوایان-برنامه-دارد\n",
      "https://www.isna.ir/news/99071309935/ناقلان-بی-علامت-کرونا\n",
      "https://www.isna.ir/news/99071309935/ناقلان-بی-علامت-کرونا\n",
      "https://www.isna.ir/news/99071913876/بی-تفاوتی-عامل-افزایش-تلفات-کرونا\n",
      "https://www.isna.ir/news/99072115686/اعلام-ضوابط-توزیع-واکسن-آنفلوآنزا-در-داروخانه-ها-احتمال-توزیع\n",
      "https://www.isna.ir/news/99073021868/کرونا-ماهانه-۲-بار-تغییر-ژنتیک-می-دهد-اورژانس-کرونایی-تعریف\n",
      "https://www.isna.ir/news/99080804798/هرگونه-تجمع-و-مراسم-در-روز-۱۳-آبان-ممنوع-است\n",
      "https://www.isna.ir/news/99080804798/هرگونه-تجمع-و-مراسم-در-روز-۱۳-آبان-ممنوع-است\n",
      "https://www.isna.ir/news/99081207808/دو-هفته-تهران-را-تعطیل-کنید\n",
      "https://www.isna.ir/news/99081207808/دو-هفته-تهران-را-تعطیل-کنید\n",
      "https://www.isna.ir/news/99082013484/پاسخ-به-ابهامات-و-سؤالاتی-درباره-واکسن-فایزر\n",
      "https://www.isna.ir/news/99082718731/آمار-بیماران-به-صورت-واقعی-به-رسانه-ها-و-مردم-اعلام-شود\n",
      "https://www.isna.ir/news/99082920414/مصوبات-ستاد-کرونا-برای-کارکنان-در-محدودیت-های-کرونایی\n",
      "https://www.isna.ir/news/99090402939/کرونا-حریف-این-زن-نشد\n",
      "https://www.isna.ir/news/99090504261/این-حرف-ها-در-مورد-کرونا-ممنوع-است\n",
      "https://www.isna.ir/news/99101511202/احتمال-ردپای-کرونای-انگلیسی-در-کردستان\n",
      "https://www.isna.ir/news/99101612268/فرد-مبتلا-به-کرونای-جهش-یافته-در-قرنطینه-کامل-است\n",
      "https://www.isna.ir/news/99101712797/با-جهش-های-سریع-کرونا-نباید-به-تأثیر-کامل-واکسن-در-ایمنی-از-بیماری\n",
      "https://www.isna.ir/news/99102920948/در-میانه-شیوع-کرونا-مراقبت-کانگرویی-فراموش-نشود\n",
      "https://www.isna.ir/news/99110502925/راهپیمایی-۲۲-بهمن-برگزار-نمی-شود-کمرنگ-شدن-استفاده-از-ماسک-نگران-کننده\n",
      "https://www.isna.ir/news/99111712710/چند-توصیه-بهداشتی-به-افراد-مبتلا-یا-مشکوک-به-کووید-۱۹\n",
      "https://www.isna.ir/news/99112921871/افراد-مبتلا-یا-مشکوک-به-کرونا-این-موارد-را-رعایت-کنند\n",
      "https://www.isna.ir/news/99112921871/افراد-مبتلا-یا-مشکوک-به-کرونا-این-موارد-را-رعایت-کنند\n",
      "https://www.isna.ir/news/99121712759/داماد-بوشهری-راهی-دادگاه-شد\n",
      "https://www.isna.ir/news/99122015352/بیماران-نقص-ایمنی-چگونه-از-خود-در-برابر-کرونا-محافظت-کنند\n",
      "https://www.isna.ir/news/99122015352/بیماران-نقص-ایمنی-چگونه-از-خود-در-برابر-کرونا-محافظت-کنند\n",
      "https://www.isna.ir/news/99122418495/بوشهری-ها-امسال-نه-سفر-می-روند-و-نه-مثل-قبل-آمادگی-پذیرایی-از\n",
      "https://www.isna.ir/news/99122619749/بهره-برداری-از-اورژانس-بیمارستان-امام-حسین-ع-ملایر-به-سال-۱۴۰۰\n",
      "https://www.isna.ir/news/99122721066/مجلس-عزا-به-تقسیم-کرونا-ختم-شد\n",
      "https://www.isna.ir/news/99122721066/مجلس-عزا-به-تقسیم-کرونا-ختم-شد\n",
      "https://www.isna.ir/news/99122821610/همه-نکاتی-که-ترخیص-شدگان-کرونا-از-بیمارستان-ها-باید-رعایت-کنند\n",
      "https://www.isna.ir/news/98011805753/آموزش-مدیریت-زندگی-در-شرایط-بحرانی-در-تلویزیون\n",
      "https://www.isna.ir/news/98011805753/آموزش-مدیریت-زندگی-در-شرایط-بحرانی-در-تلویزیون\n",
      "https://www.isna.ir/news/98012108133/خطر-استفاده-5000-بابلی-از-آب-غیربهداشتی\n",
      "https://www.isna.ir/news/98012108133/خطر-استفاده-5000-بابلی-از-آب-غیربهداشتی\n",
      "https://www.isna.ir/news/98012108133/خطر-استفاده-5000-بابلی-از-آب-غیربهداشتی\n",
      "https://www.isna.ir/news/98022513174/ساخت-گجت-های-پوشیدنی-پایش-عملکرد-قلب-در-یک-چالش-فناوری\n",
      "https://www.isna.ir/news/98022513174/ساخت-گجت-های-پوشیدنی-پایش-عملکرد-قلب-در-یک-چالش-فناوری\n",
      "https://www.isna.ir/news/98032813110/زنگ-خطری-برای-آسیب-های-جدی\n",
      "https://www.isna.ir/news/98041809319/واکنش-اینستاگرامی-وزیر-بهداشت-به-طرح-استیضاحش-در-مجلس\n",
      "https://www.isna.ir/news/98051407223/آمادگی-کامل-ایران-برای-کمک-به-حوزه-سلامت-لبنان\n",
      "https://www.isna.ir/news/98051407223/آمادگی-کامل-ایران-برای-کمک-به-حوزه-سلامت-لبنان\n",
      "https://www.isna.ir/news/98051608413/انتقاد-وزارت-بهداشت-از-پخش-سریال-های-یاس-آفرین-در-تلویزیون\n",
      "https://www.isna.ir/news/98051608413/انتقاد-وزارت-بهداشت-از-پخش-سریال-های-یاس-آفرین-در-تلویزیون\n",
      "https://www.isna.ir/news/98051608413/انتقاد-وزارت-بهداشت-از-پخش-سریال-های-یاس-آفرین-در-تلویزیون\n",
      "https://www.isna.ir/news/98052311598/عامل-مختل-کننده-حافظه-و-یادگیری\n",
      "https://www.isna.ir/news/98052311598/عامل-مختل-کننده-حافظه-و-یادگیری\n",
      "https://www.isna.ir/news/98052311598/عامل-مختل-کننده-حافظه-و-یادگیری\n",
      "https://www.isna.ir/news/98052713297/چرا-فشار-خون-بالا-انسان-کش-است\n",
      "https://www.isna.ir/news/98052713297/چرا-فشار-خون-بالا-انسان-کش-است\n",
      "https://www.isna.ir/news/98060502530/نظام-نامه-پژوهشی-برنامه-های-شبکه-های-استانی-ابلاغ-شد\n",
      "https://www.isna.ir/news/98060502530/نظام-نامه-پژوهشی-برنامه-های-شبکه-های-استانی-ابلاغ-شد\n",
      "https://www.isna.ir/news/98060904327/نمایش-شبکه-سلامت-در-تلویزیون-های-واحدهای-تابعه-وزارت-بهداشت-اجباری\n",
      "https://www.isna.ir/news/98060904327/نمایش-شبکه-سلامت-در-تلویزیون-های-واحدهای-تابعه-وزارت-بهداشت-اجباری\n",
      "https://www.isna.ir/news/98061407625/حدود-یک-چهارم-بودجه-کشور-صرف-بیمه-شدگان-می-شود\n",
      "https://www.isna.ir/news/98061407625/حدود-یک-چهارم-بودجه-کشور-صرف-بیمه-شدگان-می-شود\n",
      "https://www.isna.ir/news/00061215195/فراموش-کردن-راه-بازگشت-به-خانه\n",
      "https://www.isna.ir/news/00061215195/فراموش-کردن-راه-بازگشت-به-خانه\n",
      "https://www.isna.ir/news/98070705274/با-قلب-خود-مهربان-باشید\n",
      "https://www.isna.ir/news/98070705274/با-قلب-خود-مهربان-باشید\n",
      "https://www.isna.ir/news/98071309801/نیازهای-کودکان-برای-آینده-ای-روشن-تر\n",
      "https://www.isna.ir/news/98071309801/نیازهای-کودکان-برای-آینده-ای-روشن-تر\n",
      "https://www.isna.ir/news/98071713455/برای-اهدای-سلول-های-بنیادی-به-کجا-مراجعه-کنیم\n",
      "https://www.isna.ir/news/98071713455/برای-اهدای-سلول-های-بنیادی-به-کجا-مراجعه-کنیم\n",
      "https://www.isna.ir/news/98080201166/قرص-برنج-دوباره-قربانی-گرفت-گول-نام-برنج-را-نخورید\n",
      "https://www.isna.ir/news/98080201166/قرص-برنج-دوباره-قربانی-گرفت-گول-نام-برنج-را-نخورید\n",
      "https://www.isna.ir/news/98080402002/مولفه-های-نشاط-اجتماعی-چیست\n",
      "https://www.isna.ir/news/98080201166/قرص-برنج-دوباره-قربانی-گرفت-گول-نام-برنج-را-نخورید\n",
      "https://www.isna.ir/news/98080402002/مولفه-های-نشاط-اجتماعی-چیست\n",
      "https://www.isna.ir/news/98080402002/مولفه-های-نشاط-اجتماعی-چیست\n",
      "https://www.isna.ir/news/98081308061/حواس-افسردگی-را-پرت-کنید\n",
      "https://www.isna.ir/news/98081308061/حواس-افسردگی-را-پرت-کنید\n",
      "https://www.isna.ir/news/98081308061/حواس-افسردگی-را-پرت-کنید\n",
      "https://www.isna.ir/news/98082717837/تلاش-مسئولان-برای-رفع-نگرانی-مردم-از-آسیب-رسان-بودن-پارازیت-ها\n",
      "https://www.isna.ir/news/98082717681/۱۲-درصد-نوزادان-ایرانی-نارس-به-دنیا-می-آیند\n",
      "https://www.isna.ir/news/98082717837/تلاش-مسئولان-برای-رفع-نگرانی-مردم-از-آسیب-رسان-بودن-پارازیت-ها\n",
      "https://www.isna.ir/news/98082717681/۱۲-درصد-نوزادان-ایرانی-نارس-به-دنیا-می-آیند\n",
      "https://www.isna.ir/news/98091107750/از-بین-رفتن-۱۰-درصد-بافت-عضلانی-با-استراحت-مطلق-عدم-تناسب-۹۰\n",
      "https://www.isna.ir/news/98091107750/از-بین-رفتن-۱۰-درصد-بافت-عضلانی-با-استراحت-مطلق-عدم-تناسب-۹۰\n",
      "https://www.isna.ir/news/98091611782/از-ماجرای-صندلی-فروشی-در-اتوبوس-های-شهری-تا-داستان-پزشکان-ساک\n",
      "https://www.isna.ir/news/98091611102/هرخانه-یک-پایگاه-سلامت-رویکرد-نوین-مشارکت-همگانی-در-حوزه-سلامت\n",
      "https://www.isna.ir/news/98091611782/از-ماجرای-صندلی-فروشی-در-اتوبوس-های-شهری-تا-داستان-پزشکان-ساک\n"
     ]
    }
   ],
   "source": [
    "# get query\n",
    "query = 'توییتر فیلترینگ شبکه'\n",
    "handle_query(query)"
   ]
  },
  {
   "cell_type": "code",
   "execution_count": null,
   "metadata": {},
   "outputs": [],
   "source": []
  }
 ],
 "metadata": {
  "kernelspec": {
   "display_name": "Python 3.8.12 ('mlp')",
   "language": "python",
   "name": "python3"
  },
  "language_info": {
   "codemirror_mode": {
    "name": "ipython",
    "version": 3
   },
   "file_extension": ".py",
   "mimetype": "text/x-python",
   "name": "python",
   "nbconvert_exporter": "python",
   "pygments_lexer": "ipython3",
   "version": "3.8.12"
  },
  "orig_nbformat": 2,
  "vscode": {
   "interpreter": {
    "hash": "4976e0179d97dd6d59b1329a76e601e17b789c2571b41c8b57f5fd69821c0dd3"
   }
  }
 },
 "nbformat": 4,
 "nbformat_minor": 2
}
